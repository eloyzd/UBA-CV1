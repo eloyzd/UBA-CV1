{
 "cells": [
  {
   "cell_type": "code",
   "execution_count": 1,
   "metadata": {},
   "outputs": [],
   "source": [
    "import cv2 as cv"
   ]
  },
  {
   "cell_type": "code",
   "execution_count": 193,
   "metadata": {},
   "outputs": [],
   "source": [
    "metodo = 'MOG2'\n",
    "#metodo = 'KNN'\n",
    "if metodo == 'MOG2':\n",
    "    backSub = cv.createBackgroundSubtractorMOG2()\n",
    "else:\n",
    "    backSub = cv.createBackgroundSubtractorKNN()\n",
    "    backSub = cv.createBackgroundSubtractorKNN(detectShadows = False)"
   ]
  },
  {
   "cell_type": "markdown",
   "metadata": {},
   "source": [
    "#### Corremos la sustracción de fondo"
   ]
  },
  {
   "cell_type": "code",
   "execution_count": 172,
   "metadata": {},
   "outputs": [],
   "source": [
    "\n",
    "import numpy as np\n",
    "class BackgroundSubtractorMedian:\n",
    "    \n",
    "    def __init__(self,filename, initKframes = 10, update_rate = 100):\n",
    "        self.count = 0\n",
    "        self.update_rate = update_rate\n",
    "        capture = cv.VideoCapture(filename)\n",
    "\n",
    "        self.frames_for_update = []\n",
    "\n",
    "        for i in range(initKframes):\n",
    "            ret, frame = capture.read()\n",
    "            if frame is None:\n",
    "                break\n",
    "            else:\n",
    "                frame = cv.cvtColor(frame,cv.COLOR_BGR2GRAY)\n",
    "                self.frames_for_update.append(frame)\n",
    "    \n",
    "        self.median = np.median(self.frames_for_update, axis=0)\n",
    "\n",
    "    def apply(self, frame):\n",
    "        self.frame = cv.cvtColor(frame,cv.COLOR_BGR2GRAY)\n",
    "        self.count += 1\n",
    "        self.frames_for_update.append(self.frame)\n",
    "        self.mask = cv.threshold(np.clip(self.median-self.frame,0,255),64,1,cv.THRESH_BINARY)[1]\n",
    "        kernel = cv.getStructuringElement(cv.MORPH_ELLIPSE,(3,3))\n",
    "        self.mask = cv.morphologyEx(self.mask, cv.MORPH_CLOSE, kernel)\n",
    "        self.mask = cv.erode(self.mask,kernel)\n",
    "\n",
    "        if self.count // self.update_rate == 1:\n",
    "            self.count = 0\n",
    "            self.update()\n",
    "            self.frames_for_update = []\n",
    "        \n",
    "        return self.mask\n",
    "\n",
    "    \n",
    "    def update(self):\n",
    "        new = np.median(self.frames_for_update, axis=0)\n",
    "        self.median =  new\n",
    "\n",
    "\n",
    "\n",
    "\n"
   ]
  },
  {
   "cell_type": "code",
   "execution_count": 203,
   "metadata": {},
   "outputs": [],
   "source": [
    "# Abrimos el archivo\n",
    "#-------------------\n",
    "filename = 'vtest.avi'\n",
    "BSM = BackgroundSubtractorMedian(filename, initKframes = 50, update_rate = 200)\n",
    "\n",
    "capture = cv.VideoCapture(filename)\n",
    "\n",
    "if not capture.isOpened:\n",
    "    print('Falla al abrir el archivo: ' + filename)\n",
    "    exit(0)\n",
    "\n",
    "# Corremos la sustraccion\n",
    "#------------------------\n",
    "\n",
    "while True:\n",
    "    # Leemos un frame\n",
    "    ret, frame = capture.read()\n",
    "    if frame is None:\n",
    "        break\n",
    "    \n",
    "    mask = BSM.apply(frame)\n",
    "    \n",
    "    cv.imshow('masked_Frame', np.array(frame * mask[:,:,np.newaxis], np.uint8))       \n",
    "    cv.imshow('original', frame)\n",
    "    # Corresmos hasta que termine o apriete escape\n",
    "    keyboard = cv.waitKey(30)\n",
    "    if keyboard == 'q' or keyboard == 27:\n",
    "        break\n",
    "cv.destroyAllWindows()\n"
   ]
  },
  {
   "cell_type": "code",
   "execution_count": 201,
   "metadata": {},
   "outputs": [],
   "source": [
    "# Abrimos el archivo\n",
    "#-------------------\n",
    "filename = 'vtest.avi'\n",
    "capture = cv.VideoCapture(filename)\n",
    "\n",
    "if not capture.isOpened:\n",
    "    print('Falla al abrir el archivo: ' + filename)\n",
    "    exit(0)\n",
    "\n",
    "# Corremos la sustraccion\n",
    "#------------------------\n",
    "while True:\n",
    "    # Leemos un frame\n",
    "    ret, frame = capture.read()\n",
    "    if frame is None:\n",
    "        break\n",
    "    \n",
    "    # Aplicamos la sustracción al frame leído\n",
    "    #----------------------------------------\n",
    "    # Cada frame se utiliza tanto para calcular la máscara de primer plano como para actualizar el fondo.\n",
    "    # Si se desea cambiar la tasa de aprendizaje utilizada para actualizar el modelo de fondo, es posible\n",
    "    # establecer una tasa de aprendizaje específica pasando un parámetro al método apply.\n",
    "    fgMask = backSub.apply(frame)\n",
    "    mask = BSM.apply(frame)\n",
    "    \n",
    "\n",
    "    \n",
    "    # Escribimos sobre la imagen el número de frame procesado\n",
    "    cv.rectangle(frame, (10, 2), (100,20), (255,255,255), -1)\n",
    "    cv.putText(frame, str(capture.get(cv.CAP_PROP_POS_FRAMES)), (15, 15),\n",
    "               cv.FONT_HERSHEY_SIMPLEX, 0.5 , (0,0,0))\n",
    "    \n",
    "    # mostramos frame original e imagen binaria background/foreground\n",
    "    # cv.imshow('Frame', frame)\n",
    "\n",
    "    cv.imshow('MGO', fgMask)\n",
    "    cv.imshow('Median', mask)\n",
    "    # Corresmos hasta que termine o apriete escape\n",
    "    keyboard = cv.waitKey(30)\n",
    "    if keyboard == 'q' or keyboard == 27:\n",
    "        break\n",
    "\n",
    "cv.destroyAllWindows()\n",
    "capture.release()"
   ]
  },
  {
   "cell_type": "markdown",
   "metadata": {},
   "source": [
    "## conclusiones\n"
   ]
  },
  {
   "cell_type": "markdown",
   "metadata": {},
   "source": [
    "Se implemento una clase que permite eliminar el background de un video para detectar los objetos en movimiento. El método se basa en eliminación por mediana.\n",
    "\n",
    "Los resultados obtenidos comparados con el método basado en MOG muestran un buen desempeño en la detección de los objetos, perdiéndose en algunos casos particulares la silueta de las personas. Sin embargo, el método implementado no presento grandes indicios de falsos positivos y la actualización de la mediana no fue necesaria con tanta frecuencia. El método basado en MOG como fue utilizado en clase, muestra una marcada detección de la silueta de las personas, pero agrega mucho ruido a la máscara. Este ruido podría ser mitigado aplicando transformaciones morfológicas como erode con kernel pequeño. Las sombras de las personas es un punto a trabajar, si representa un problema en la aplicación.\n",
    "\n",
    "En ambos casos, un factor a tener en cuenta es la capacidad de procesamiento que se cuenta y el tiempo requerido para aplicar las transformaciones morfológicas necesarias."
   ]
  },
  {
   "cell_type": "markdown",
   "metadata": {},
   "source": []
  }
 ],
 "metadata": {
  "kernelspec": {
   "display_name": "Python 3.8.0 ('uba-env': venv)",
   "language": "python",
   "name": "python3"
  },
  "language_info": {
   "codemirror_mode": {
    "name": "ipython",
    "version": 3
   },
   "file_extension": ".py",
   "mimetype": "text/x-python",
   "name": "python",
   "nbconvert_exporter": "python",
   "pygments_lexer": "ipython3",
   "version": "3.8.0"
  },
  "vscode": {
   "interpreter": {
    "hash": "ef73d9334d5ce8cdc323e58bc2c037d76376afdd3fe87998db26b15bfda9212b"
   }
  }
 },
 "nbformat": 4,
 "nbformat_minor": 4
}
